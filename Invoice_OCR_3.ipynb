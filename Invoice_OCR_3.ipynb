{
  "nbformat": 4,
  "nbformat_minor": 0,
  "metadata": {
    "colab": {
      "private_outputs": true,
      "provenance": [],
      "gpuType": "T4",
      "mount_file_id": "13WhW-jZIAu2vd1zFa0HvuSfn1IIB2xb0",
      "authorship_tag": "ABX9TyPSUkPutYDKsZWgm5mHJboc",
      "include_colab_link": true
    },
    "kernelspec": {
      "name": "python3",
      "display_name": "Python 3"
    },
    "language_info": {
      "name": "python"
    },
    "accelerator": "GPU"
  },
  "cells": [
    {
      "cell_type": "markdown",
      "metadata": {
        "id": "view-in-github",
        "colab_type": "text"
      },
      "source": [
        "<a href=\"https://colab.research.google.com/github/Manish-Singh-Mehra/Invoice_OCR/blob/main/Invoice_OCR_3.ipynb\" target=\"_parent\"><img src=\"https://colab.research.google.com/assets/colab-badge.svg\" alt=\"Open In Colab\"/></a>"
      ]
    },
    {
      "cell_type": "code",
      "source": [
        "!sudo apt install -q tesseract-ocr\n",
        "!pip install -q pytesseract\n",
        "!pip install opencv-python-headless"
      ],
      "metadata": {
        "id": "aueMmQeeGNx5"
      },
      "execution_count": null,
      "outputs": []
    },
    {
      "cell_type": "code",
      "source": [
        "import pytesseract\n",
        "import cv2\n",
        "import numpy as np"
      ],
      "metadata": {
        "id": "Pspe33evU0MR"
      },
      "execution_count": null,
      "outputs": []
    },
    {
      "cell_type": "code",
      "source": [
        "def preprocess_image(image_path):\n",
        "    image = cv2.imread(image_path)\n",
        "\n",
        "    # Detect edges using Canny edge detection\n",
        "    edges = cv2.Canny(image, threshold1=50, threshold2=150)\n",
        "\n",
        "    # Detect lines using Hough Line Transform\n",
        "    lines = cv2.HoughLinesP(edges, 1, np.pi / 180, threshold=100, minLineLength=100, maxLineGap=10)\n",
        "\n",
        "    # Calculate the average angle of detected lines\n",
        "    angles = []\n",
        "    for line in lines:\n",
        "        x1, y1, x2, y2 = line[0]\n",
        "        angle = np.arctan2(y2 - y1, x2 - x1) * 180 / np.pi\n",
        "        angles.append(angle)\n",
        "    average_angle = np.mean(angles)\n",
        "\n",
        "    # Rotate the image to correct alignment\n",
        "    rotated_image = cv2.rotate(image, cv2.ROTATE_90_CLOCKWISE)\n",
        "\n",
        "    # Convert the image to grayscale\n",
        "    gray_image = cv2.cvtColor(rotated_image, cv2.COLOR_BGR2GRAY)\n",
        "\n",
        "    # Apply thresholding to enhance text visibility\n",
        "    _, threshold_image = cv2.threshold(gray_image, 0, 255, cv2.THRESH_BINARY + cv2.THRESH_OTSU)\n",
        "\n",
        "    # Perform image denoising\n",
        "    denoised_image = cv2.fastNlMeansDenoising(threshold_image, None, 10, 7, 21)\n",
        "\n",
        "    return denoised_image"
      ],
      "metadata": {
        "id": "rrQDLXbQGcLf"
      },
      "execution_count": null,
      "outputs": []
    },
    {
      "cell_type": "code",
      "source": [
        "from google.colab.patches import cv2_imshow\n",
        "image = '/content/drive/MyDrive/Colab Notebooks/Sample_invoices/Permali Wallace Pvt Ltd-1.jpg'\n",
        "no_noise = preprocess_image(image)\n",
        "cv2_imshow(no_noise)"
      ],
      "metadata": {
        "id": "b4-QnGulG2Kr"
      },
      "execution_count": null,
      "outputs": []
    },
    {
      "cell_type": "code",
      "source": [
        "text = pytesseract.image_to_string(no_noise)\n",
        "print(text)"
      ],
      "metadata": {
        "id": "Dc_KcsE8DqUH"
      },
      "execution_count": null,
      "outputs": []
    },
    {
      "cell_type": "code",
      "source": [
        "import re\n",
        "\n",
        "def extract_invoice_information(text):\n",
        "    extracted_info = {}\n",
        "\n",
        "    invoice_number = re.findall('\\b[A-Za-z0-9]+\\/\\d+\\b', text, re.IGNORECASE)\n",
        "    if invoice_number:\n",
        "      extracted_info['Invoice Number'] = invoice_number[0]\n",
        "\n",
        "    invoice_date = re.findall('Invoice Date: \\s*(\\d{2}-\\d{2}-\\d{4})', text)\n",
        "    if invoice_date:\n",
        "      extracted_info['Invoice Date'] = invoice_date[-1]\n",
        "\n",
        "    gst_number = re.findall('\\d{2}[A-Z]{5}\\d{4}[A-Z]{1}[A-Z\\d]{1}[Z]{1}[A-Z\\d]{1}',text)\n",
        "    if gst_number:\n",
        "      extracted_info['GST Number'] = gst_number[0]\n",
        "\n",
        "    email = re.findall('^([a-z\\d\\.\\-]+)@([a-z\\d-]+)\\.([a-z][2,8])(\\.[a-z]{2,8})?$',text)\n",
        "    if email:\n",
        "     extracted_info['Email'] = email[0]\n",
        "\n",
        "    invoice_amount = re.findall('\\b[\\d,]+(?:\\.\\d{2})?\\b', text)\n",
        "    if invoice_amount:\n",
        "      extracted_info['Total Invoice Amount'] = invoice_amount[-1]\n",
        "\n",
        "    address = re.findall('\\b(?:\\d+\\s+)?(?:[A-Za-z0-9\\s.,#-]+)\\s*,?\\s*(?:[A-Za-z\\s.,#-]+)?\\s*,?\\s*(?:[A-Za-z\\s.,#-]+)?\\s*\\b', text)\n",
        "    if address:\n",
        "      extracted_info['Address'] = address\n",
        "\n",
        "    return extracted_info\n",
        "\n",
        "ocr_text = text\n",
        "extracted_info = extract_invoice_information(ocr_text)\n"
      ],
      "metadata": {
        "id": "lXzAmum-MRqI"
      },
      "execution_count": null,
      "outputs": []
    },
    {
      "cell_type": "code",
      "source": [
        "import json\n",
        "\n",
        "data = extracted_info\n",
        "\n",
        "json_file_path = \"invoice_data.json\"\n",
        "\n",
        "# Write the dictionary to the JSON file\n",
        "with open(json_file_path, \"w\") as json_file:\n",
        "    json.dump(data, json_file, indent=4)\n",
        "\n",
        "print(f\"JSON data has been written to '{json_file_path}'\")"
      ],
      "metadata": {
        "id": "8JINOuzRIm-7"
      },
      "execution_count": null,
      "outputs": []
    }
  ]
}