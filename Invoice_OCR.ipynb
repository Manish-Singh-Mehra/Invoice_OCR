{
  "nbformat": 4,
  "nbformat_minor": 0,
  "metadata": {
    "colab": {
      "private_outputs": true,
      "provenance": [],
      "gpuType": "T4",
      "mount_file_id": "1LIrd1RZFLfWiO0zexTilzDsCU-qHMg6X",
      "authorship_tag": "ABX9TyNo7FiCJpk637g90XkHWNmt",
      "include_colab_link": true
    },
    "kernelspec": {
      "name": "python3",
      "display_name": "Python 3"
    },
    "language_info": {
      "name": "python"
    },
    "accelerator": "GPU"
  },
  "cells": [
    {
      "cell_type": "markdown",
      "metadata": {
        "id": "view-in-github",
        "colab_type": "text"
      },
      "source": [
        "<a href=\"https://colab.research.google.com/github/Manish-Singh-Mehra/Invoice_OCR/blob/main/Invoice_OCR.ipynb\" target=\"_parent\"><img src=\"https://colab.research.google.com/assets/colab-badge.svg\" alt=\"Open In Colab\"/></a>"
      ]
    },
    {
      "cell_type": "code",
      "execution_count": null,
      "metadata": {
        "id": "bMfJp_Hl_kAn"
      },
      "outputs": [],
      "source": [
        "import cv2 as cv\n",
        "import numpy as np"
      ]
    },
    {
      "cell_type": "code",
      "source": [
        "image = cv.imread('/content/drive/MyDrive/Colab Notebooks/Sample_invoices/Permali Wallace Pvt Ltd-1.jpg')"
      ],
      "metadata": {
        "id": "w8QtMb1JAiFr"
      },
      "execution_count": null,
      "outputs": []
    },
    {
      "cell_type": "code",
      "source": [
        "from google.colab.patches import cv2_imshow\n",
        "cv2_imshow(image)"
      ],
      "metadata": {
        "id": "-ihr9gdiB1Ag"
      },
      "execution_count": null,
      "outputs": []
    },
    {
      "cell_type": "code",
      "source": [
        "base_image = image.copy()"
      ],
      "metadata": {
        "id": "i3xSLXwXDsn-"
      },
      "execution_count": null,
      "outputs": []
    },
    {
      "cell_type": "code",
      "source": [
        "def noise_removal(book):\n",
        "  kernel = np.ones((1,1),np.uint8)\n",
        "  book = cv.dilate(book,kernel,iterations=1)\n",
        "  book = cv.erode(book, kernel, iterations=1)\n",
        "  book = cv.morphologyEx(book, cv.MORPH_CLOSE, kernel)\n",
        "  book = cv.medianBlur(book,3)\n",
        "  return (book)"
      ],
      "metadata": {
        "id": "TErmOYtyQwQN"
      },
      "execution_count": null,
      "outputs": []
    },
    {
      "cell_type": "code",
      "source": [
        "invert_image = cv.bitwise_not(image)\n",
        "gray = cv.cvtColor(invert_image, cv.COLOR_BGR2GRAY)\n",
        "thresh, bw = cv.threshold(gray, 27,255, cv.THRESH_BINARY)\n",
        "cv2_imshow(bw)"
      ],
      "metadata": {
        "id": "UsODpORjDsrc"
      },
      "execution_count": null,
      "outputs": []
    },
    {
      "cell_type": "code",
      "source": [
        "def remove_borders(cvImage):\n",
        "  contours, heiarchy = cv.findContours(cvImage, cv.RETR_EXTERNAL, cv.CHAIN_APPROX_SIMPLE)\n",
        "  cntSorted = sorted(contours, key = lambda x: cv.contourArea(x))\n",
        "  cnt = cntSorted[-1]\n",
        "  x,y,w,h = cv.boundingRect(cnt)\n",
        "  crop = image[y: y+h, x : x+w]\n",
        "  return(crop)"
      ],
      "metadata": {
        "id": "ofm6HD-lmfM3"
      },
      "execution_count": null,
      "outputs": []
    },
    {
      "cell_type": "code",
      "source": [
        "borderless = remove_borders(gray)"
      ],
      "metadata": {
        "id": "_oWBzw2LJ7Em"
      },
      "execution_count": null,
      "outputs": []
    },
    {
      "cell_type": "code",
      "source": [
        "def getSkwedAngle(cvImage)-> float:\n",
        "  grey = cv.cvtColor(cvImage, cv.COLOR_BGR2GRAY)\n",
        "  blur = cv.GaussianBlur(grey, (9,9), 0)\n",
        "  thresh = cv.threshold(blur, 0,255, cv.THRESH_BINARY_INV + cv.THRESH_OTSU)[1]\n",
        "  kernel = cv.getStructuringElement(cv.MORPH_RECT,(30,5))\n",
        "  dilate = cv.dilate(thresh, kernel, iterations=2)\n",
        "  contours, heiarchy = cv.findContours(dilate, cv.RETR_LIST, cv.CHAIN_APPROX_SIMPLE)\n",
        "  contours = sorted(contours, key = cv.contourArea, reverse = True)\n",
        "  for c in contours:\n",
        "    rect = cv.boundingRect(c)\n",
        "    x,y,w,h = rect\n",
        "    cv.rectangle(borderless, (x,y), (x+w,y+h), (0,255,0),2)\n",
        "  largestcontour = contours[0]\n",
        "  minAreaRect = cv.minAreaRect(largestcontour)\n",
        "  angle = minAreaRect[-1]\n",
        "  if angle<-45:\n",
        "    angle = 90 + angle\n",
        "  return (-1*angle)"
      ],
      "metadata": {
        "id": "K_OrR2oWDNT_"
      },
      "execution_count": null,
      "outputs": []
    },
    {
      "cell_type": "code",
      "source": [
        "def rotateImage(cvImage, angle:float):\n",
        "  newImage = cvImage.copy()\n",
        "  (h,w) = newImage.shape[:2]\n",
        "  center = (h//2, w//2)\n",
        "  M = cv.getRotationMatrix2D(center, angle, 1)\n",
        "  newImage = cv.warpAffine(newImage,M,(h,w), flags = cv.INTER_CUBIC, borderMode= cv.BORDER_REPLICATE)\n",
        "  return newImage"
      ],
      "metadata": {
        "id": "rALFlidDHdAf"
      },
      "execution_count": null,
      "outputs": []
    },
    {
      "cell_type": "code",
      "source": [
        "def deskew(cvImage):\n",
        "  angle = getSkwedAngle(cvImage)\n",
        "  return rotateImage(cvImage, angle )"
      ],
      "metadata": {
        "id": "7Tpw7NygJHbp"
      },
      "execution_count": null,
      "outputs": []
    },
    {
      "cell_type": "code",
      "source": [
        "fixed = deskew(borderless)\n",
        "cv2_imshow(fixed)"
      ],
      "metadata": {
        "id": "Z___NLd9K9mr"
      },
      "execution_count": null,
      "outputs": []
    }
  ]
}