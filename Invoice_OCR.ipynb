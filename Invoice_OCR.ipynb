{
  "nbformat": 4,
  "nbformat_minor": 0,
  "metadata": {
    "colab": {
      "private_outputs": true,
      "provenance": [],
      "gpuType": "T4",
      "mount_file_id": "1D8IeFW6nlGoZcf2xRxbuodqB26PwCY4I",
      "authorship_tag": "ABX9TyOoceVlikIWEU3b3snygj3Q",
      "include_colab_link": true
    },
    "kernelspec": {
      "name": "python3",
      "display_name": "Python 3"
    },
    "language_info": {
      "name": "python"
    },
    "accelerator": "GPU"
  },
  "cells": [
    {
      "cell_type": "markdown",
      "metadata": {
        "id": "view-in-github",
        "colab_type": "text"
      },
      "source": [
        "<a href=\"https://colab.research.google.com/github/Manish-Singh-Mehra/Invoice_OCR/blob/main/Invoice_OCR.ipynb\" target=\"_parent\"><img src=\"https://colab.research.google.com/assets/colab-badge.svg\" alt=\"Open In Colab\"/></a>"
      ]
    },
    {
      "cell_type": "code",
      "source": [
        "!sudo apt install -q tesseract-ocr\n",
        "!pip install -q pytesseract\n",
        "!pip install opencv-python-headless"
      ],
      "metadata": {
        "id": "cQeiJk3M85K2"
      },
      "execution_count": null,
      "outputs": []
    },
    {
      "cell_type": "code",
      "source": [
        "import numpy as np\n",
        "import cv2\n",
        "import pytesseract"
      ],
      "metadata": {
        "id": "hEKXoWC5bDw2"
      },
      "execution_count": null,
      "outputs": []
    },
    {
      "cell_type": "code",
      "execution_count": null,
      "metadata": {
        "id": "foyyePHj8cU4"
      },
      "outputs": [],
      "source": [
        "def preprocess_image(image):\n",
        "    # Convert the image to grayscale\n",
        "    gray_image = cv2.cvtColor(image, cv2.COLOR_BGR2GRAY)\n",
        "\n",
        "    # Apply thresholding to enhance text visibility\n",
        "    _, threshold_image = cv2.threshold(gray_image, 0, 255, cv2.THRESH_BINARY + cv2.THRESH_OTSU)\n",
        "\n",
        "    # Perform image denoising\n",
        "    denoised_image = cv2.fastNlMeansDenoising(threshold_image, None, 10, 7, 21)\n",
        "\n",
        "    return denoised_image"
      ]
    },
    {
      "cell_type": "code",
      "source": [
        "def ocr_extract_info(image_path):\n",
        "    # Load the image using OpenCV\n",
        "    image = cv2.imread(image_path)\n",
        "\n",
        "    # Detect edges using Canny edge detection\n",
        "    edges = cv2.Canny(image, threshold1=50, threshold2=150)\n",
        "\n",
        "    # Detect lines using Hough Line Transform\n",
        "    lines = cv2.HoughLinesP(edges, 1, np.pi / 180, threshold=100, minLineLength=100, maxLineGap=10)\n",
        "\n",
        "    # Calculate the average angle of detected lines\n",
        "    angles = []\n",
        "    for line in lines:\n",
        "        x1, y1, x2, y2 = line[0]\n",
        "        angle = np.arctan2(y2 - y1, x2 - x1) * 180 / np.pi\n",
        "        angles.append(angle)\n",
        "    average_angle = np.mean(angles)\n",
        "\n",
        "    # Rotate the image to correct alignment\n",
        "    rotated_image = cv2.rotate(image, cv2.ROTATE_90_CLOCKWISE)\n",
        "\n",
        "    # Preprocess the rotated image\n",
        "    preprocessed_image = preprocess_image(rotated_image)\n",
        "\n",
        "    # Perform OCR using pytesseract on the preprocessed image\n",
        "    extracted_text = pytesseract.image_to_string(preprocessed_image)\n",
        "\n",
        "    return extracted_text"
      ],
      "metadata": {
        "id": "rqtJ4eNQ8i4N"
      },
      "execution_count": null,
      "outputs": []
    },
    {
      "cell_type": "code",
      "source": [
        "if __name__ == \"__main__\":\n",
        "    image_path = \"/content/drive/MyDrive/Colab Notebooks/Sample_invoices/Permali Wallace Pvt Ltd-1.jpg\"\n",
        "    text = ocr_extract_info(image_path)\n",
        "\n",
        "    # Print the extracted information\n",
        "    print(text)"
      ],
      "metadata": {
        "id": "Rqkr8QWP8soG"
      },
      "execution_count": null,
      "outputs": []
    },
    {
      "cell_type": "code",
      "source": [
        "import re\n",
        "\n",
        "def extract_invoice_details(extracted_text):\n",
        "    invoice_number = re.search(r'Invoice Number:\\s*(\\w+)', text, re.IGNORECASE)\n",
        "    invoice_date = re.search(r'Invoice Date:\\s*(\\d{2}/\\d{2}/\\d{4})', text)\n",
        "    gst_number = re.search(r'GSTIN:\\s*(^[0-9]{2}[A-Z]{5}[0-9]{4}[A-Z]{1}[1-9A-Z]{1}Z[0-9A-Z]{1}$)', text, re.IGNORECASE)\n",
        "\n",
        "    vendor_name = re.search(r'Vendor Name:\\s*(.*?)\\n', text, re.IGNORECASE)\n",
        "    vendor_address = re.search(r'Vendor Address:\\s*(.*?)\\n', text, re.IGNORECASE)\n",
        "\n",
        "    delivery_address = re.search(r'Delivery Address:\\s*(.*?)\\n', text, re.IGNORECASE)\n",
        "\n",
        "    buyer_name = re.search(r'Buyer Name:\\s*(.*?)\\n', text, re.IGNORECASE)\n",
        "    buyer_address = re.search(r'Buyer Address:\\s*(.*?)\\n', text, re.IGNORECASE)\n",
        "\n",
        "    item_details = re.findall(r'Item:\\s*(\\w+)\\s+Price:\\s*(\\d+\\.\\d{2})\\s+Quantity:\\s*(\\d+)\\s+', text)\n",
        "\n",
        "    total_invoice_amount = re.search(r'Total Invoice Amount:\\s*(\\d+\\.\\d{2})', text)\n",
        "    total_tax_amount = re.search(r'Total Tax Amount:\\s*(\\d+\\.\\d{2})', text)\n",
        "    po_number = re.search(r'PO Number:\\s*(\\w+)', text, re.IGNORECASE)\n",
        "\n",
        "    return {\n",
        "        \"invoice_number\": invoice_number.group(1) if invoice_number else None,\n",
        "        \"invoice_date\": invoice_date.group(1) if invoice_date else None,\n",
        "        \"gst_number\": gst_number.group(1) if gst_number else None,\n",
        "        \"vendor_name\": vendor_name.group(1) if vendor_name else None,\n",
        "        \"vendor_address\": vendor_address.group(1) if vendor_address else None,\n",
        "        \"delivery_address\": delivery_address.group(1) if delivery_address else None,\n",
        "        \"buyer_name\": buyer_name.group(1) if buyer_name else None,\n",
        "        \"buyer_address\": buyer_address.group(1) if buyer_address else None,\n",
        "        \"item_details\": [{\"item_code\": item[0], \"price\": float(item[1]), \"quantity\": int(item[2])} for item in item_details],\n",
        "        \"total_invoice_amount\": float(total_invoice_amount.group(1)) if total_invoice_amount else None,\n",
        "        \"total_tax_amount\": float(total_tax_amount.group(1)) if total_tax_amount else None,\n",
        "        \"po_number\": po_number.group(1) if po_number else None,\n",
        "    }\n",
        "\n",
        "if __name__ == \"__main__\":\n",
        "    extracted_text = text\n",
        "    invoice_details = extract_invoice_details(extracted_text)\n",
        "\n",
        "    # Print the extracted invoice details\n",
        "    for key, value in invoice_details.items():\n",
        "        print(f\"{key}: {value}\")\n"
      ],
      "metadata": {
        "id": "xxnis7MckIby"
      },
      "execution_count": null,
      "outputs": []
    },
    {
      "cell_type": "code",
      "source": [
        "type(text)"
      ],
      "metadata": {
        "id": "A0hoMGsXkIYy"
      },
      "execution_count": null,
      "outputs": []
    },
    {
      "cell_type": "code",
      "source": [
        "#for GST Number\n",
        "pattern = '\\d{2}[A-Z]{5}\\d{4}[A-Z]{1}[A-Z\\d]{1}[Z]{1}[A-Z\\d]{1}'\n",
        "matches = []\n",
        "matches.append(re.findall('\\d{2}[A-Z]{5}\\d{4}[A-Z]{1}[A-Z\\d]{1}[Z]{1}[A-Z\\d]{1}',text))\n",
        "matches.append(re.findall('\\d{2}-\\d{2}-\\d{2,4}',text))\n",
        "matches"
      ],
      "metadata": {
        "id": "wyV5mF99kIUq"
      },
      "execution_count": null,
      "outputs": []
    },
    {
      "cell_type": "code",
      "source": [],
      "metadata": {
        "id": "Khjg7gA1kIS4"
      },
      "execution_count": null,
      "outputs": []
    },
    {
      "cell_type": "code",
      "source": [],
      "metadata": {
        "id": "QbnUXKRtkIJV"
      },
      "execution_count": null,
      "outputs": []
    }
  ]
}